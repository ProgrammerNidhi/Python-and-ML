{
 "cells": [
  {
   "cell_type": "markdown",
   "metadata": {
    "id": "xL0M_5xsWrGZ"
   },
   "source": [
    "# Assignment 4\n",
    "\n",
    "Please read the following instructions carefully:\n",
    "\n",
    "This assignment will test your knowledge of machine learning and data visualisation techniques in Python. This will primarily focus on PyTorch and torchvision and how to program using these packages and as such you should use the appropriate functionality provided by the packages. You may also use Numpy, scikit-learn, Tensorboard and Matplotlib where appropriate for some questions. Do not use any other external packages other than these.\n",
    "\n",
    "In the below questions you will generally need to complete the code in the cell below the question and output the required results, charts or graphs. \n",
    "\n",
    "Questions 1-5 are each worth 5 marks."
   ]
  },
  {
   "cell_type": "markdown",
   "metadata": {
    "id": "QJ031HqlWykB"
   },
   "source": [
    "#### 1. Load/download and normalize the FashionMNIST training and test datasets using torchvision.\n",
    "    \n",
    "#### And show some training images by visualising a (training) batch of images."
   ]
  },
  {
   "cell_type": "code",
   "execution_count": 1,
   "metadata": {
    "id": "Xv6IwOyIMXMO"
   },
   "outputs": [],
   "source": [
    "#Importing Important Libraries\n",
    "import numpy as np\n",
    "import pandas as pd\n",
    "import matplotlib.pyplot as plt\n",
    "\n",
    "import torch\n",
    "import torch.nn as nn\n",
    "from torch.autograd import Variable\n",
    "\n",
    "import torchvision\n",
    "import torchvision.transforms as transforms\n",
    "from torch.utils.data import Dataset, DataLoader\n",
    "from sklearn.metrics import confusion_matrix"
   ]
  },
  {
   "cell_type": "markdown",
   "metadata": {
    "id": "mJSfLeG9MNmb"
   },
   "source": [
    "If the GPU is available use it for the computation otherwise use the CPU.\n"
   ]
  },
  {
   "cell_type": "code",
   "execution_count": 2,
   "metadata": {
    "id": "nb7Yi0qNMMJ2"
   },
   "outputs": [],
   "source": [
    "device = torch.device(\"cuda:0\" if torch.cuda.is_available() else \"cpu\")"
   ]
  },
  {
   "cell_type": "markdown",
   "metadata": {
    "id": "w8moA3ejMhCB"
   },
   "source": [
    "There are 2 ways to load the Fashion MNIST dataset.\n",
    "\n",
    "1.   Load csv and then inherite Pytorch Dataset class .\n",
    "2.   Use Pytorch module torchvision.datasets. It has many popular datasets like MNIST, FashionMNIST, CIFAR10 e.t.c.\n",
    "\n",
    "\n",
    "\n",
    "We use DataLoader class from torch.utils.data to load data in batches in both method.\n",
    "Comment out the code of a method which you are not using.\n",
    "\n",
    "1. Using a Dataset class.\n",
    "First load the data from the disk using pandas read_csv() method.\n",
    "\n",
    "Now inherit Dataset class in your own class that you are building, lets say FashionData.\n",
    "\n",
    "It has 2 methods: get_item( ) and len().\n",
    "get_item( ) return the images and labels and len( ) returns the number of items in a dataset."
   ]
  },
  {
   "cell_type": "code",
   "execution_count": 8,
   "metadata": {
    "colab": {
     "base_uri": "https://localhost:8080/"
    },
    "id": "uuD1laPL1CCJ",
    "outputId": "8c0096f6-ad49-41f8-d091-2361e2d97566"
   },
   "outputs": [
    {
     "name": "stdout",
     "output_type": "stream",
     "text": [
      "Archive:  fashion-mnist_test.csv.zip\n",
      "  inflating: fashion-mnist_test.csv  \n",
      "Archive:  fashion-mnist_train.csv.zip\n",
      "  inflating: fashion-mnist_train.csv  \n"
     ]
    }
   ],
   "source": [
    "!cp /content/drive/MyDrive/fashion-mnist_test.csv.zip .\n",
    "!cp /content/drive/MyDrive/fashion-mnist_train.csv.zip .\n",
    "\n",
    "!unzip fashion-mnist_test.csv.zip\n",
    "!unzip fashion-mnist_train.csv.zip"
   ]
  },
  {
   "cell_type": "markdown",
   "metadata": {
    "id": "f_-BxvUZ-9SV"
   },
   "source": [
    "## Loading the fashion Mnist dataset using Pytorch"
   ]
  },
  {
   "cell_type": "code",
   "execution_count": 16,
   "metadata": {
    "id": "KrjYhmCgMgKf"
   },
   "outputs": [],
   "source": [
    "##Loading the fashion Mnist dataset using Pytorch\n",
    "test_csv = pd.read_csv(\"./fashion-mnist_test.csv\")\n",
    "train_csv = pd.read_csv(\"./fashion-mnist_train.csv\")"
   ]
  },
  {
   "cell_type": "code",
   "execution_count": 18,
   "metadata": {
    "id": "Aum1_bwSMbpq"
   },
   "outputs": [],
   "source": [
    "class FashionDataset(Dataset):\n",
    "    \"\"\"User defined class to build a datset using Pytorch class Dataset.\"\"\"\n",
    "    \n",
    "    def __init__(self, data, transform = None):\n",
    "        \"\"\"Method to initilaize variables.\"\"\" \n",
    "        self.fashion_MNIST = list(data.values)\n",
    "        self.transform = transform\n",
    "        \n",
    "        label = []\n",
    "        image = []\n",
    "        \n",
    "        for i in self.fashion_MNIST:\n",
    "             # first column is of labels.\n",
    "            label.append(i[0])\n",
    "            image.append(i[1:])\n",
    "        self.labels = np.asarray(label)\n",
    "        # Dimension of Images = 28 * 28 * 1. where height = width = 28 and color_channels = 1.\n",
    "        self.images = np.asarray(image).reshape(-1, 28, 28, 1).astype('float32')\n",
    "\n",
    "    def __getitem__(self, index):\n",
    "        label = self.labels[index]\n",
    "        image = self.images[index]\n",
    "        \n",
    "        if self.transform is not None:\n",
    "            image = self.transform(image)\n",
    "\n",
    "        return image, label\n",
    "\n",
    "    def __len__(self):\n",
    "        return len(self.images)"
   ]
  },
  {
   "cell_type": "code",
   "execution_count": 19,
   "metadata": {
    "id": "kH29t19lNBhX"
   },
   "outputs": [],
   "source": [
    "# Transform data into Tensor that has a range from 0 to 1\n",
    "train_set = FashionDataset(train_csv, transform=transforms.Compose([transforms.ToTensor()]))\n",
    "test_set = FashionDataset(test_csv, transform=transforms.Compose([transforms.ToTensor()]))\n",
    "\n",
    "train_loader = DataLoader(train_set, batch_size=100)\n",
    "test_loader = DataLoader(train_set, batch_size=100)"
   ]
  },
  {
   "cell_type": "code",
   "execution_count": 20,
   "metadata": {
    "id": "g_f59rh0NR8k"
   },
   "outputs": [],
   "source": [
    "def output_label(label):\n",
    "    output_mapping = {\n",
    "                 0: \"T-shirt/Top\",\n",
    "                 1: \"Trouser\",\n",
    "                 2: \"Pullover\",\n",
    "                 3: \"Dress\",\n",
    "                 4: \"Coat\", \n",
    "                 5: \"Sandal\", \n",
    "                 6: \"Shirt\",\n",
    "                 7: \"Sneaker\",\n",
    "                 8: \"Bag\",\n",
    "                 9: \"Ankle Boot\"\n",
    "                 }\n",
    "    input = (label.item() if type(label) == torch.Tensor else label)\n",
    "    return output_mapping[input]"
   ]
  },
  {
   "cell_type": "code",
   "execution_count": 61,
   "metadata": {
    "colab": {
     "base_uri": "https://localhost:8080/",
     "height": 300
    },
    "id": "pGQoVEspNWOv",
    "outputId": "2173971d-c81c-4c8c-8706-bec33e9b034c"
   },
   "outputs": [
    {
     "name": "stdout",
     "output_type": "stream",
     "text": [
      "torch.Size([100, 1, 28, 28])\n",
      "2\n"
     ]
    },
    {
     "data": {
      "image/png": "[encoded data removed]",
      "text/plain": [
       "<Figure size 432x288 with 1 Axes>"
      ]
     },
     "metadata": {
      "needs_background": "light"
     },
     "output_type": "display_data"
    }
   ],
   "source": [
    "a = next(iter(train_loader))\n",
    "print(a[0].size())\n",
    "\n",
    "image, label = next(iter(train_set))\n",
    "plt.imshow(image.squeeze(), cmap=\"gray\")\n",
    "print(label)"
   ]
  },
  {
   "cell_type": "markdown",
   "metadata": {
    "id": "8mQyc-ZN_S8d"
   },
   "source": [
    "## Visualizing batch of images"
   ]
  },
  {
   "cell_type": "code",
   "execution_count": 62,
   "metadata": {
    "colab": {
     "base_uri": "https://localhost:8080/",
     "height": 208
    },
    "id": "Bz_IQ2Y9Nhj6",
    "outputId": "9ea4e9df-c197-4cbc-8d2e-8ab9a2e02b50"
   },
   "outputs": [
    {
     "name": "stderr",
     "output_type": "stream",
     "text": [
      "WARNING:matplotlib.image:Clipping input data to the valid range for imshow with RGB data ([0..1] for floats or [0..255] for integers).\n"
     ]
    },
    {
     "name": "stdout",
     "output_type": "stream",
     "text": [
      "<class 'torch.Tensor'> <class 'torch.Tensor'>\n",
      "torch.Size([10, 1, 28, 28]) torch.Size([10])\n",
      "labels:  Pullover, Ankle Boot, Shirt, T-shirt/Top, Dress, Coat, Coat, Sandal, Coat, Bag, "
     ]
    },
    {
     "data": {
      "image/png": "[encoded data removed]",
      "text/plain": [
       "<Figure size 1080x1440 with 1 Axes>"
      ]
     },
     "metadata": {
      "needs_background": "light"
     },
     "output_type": "display_data"
    }
   ],
   "source": [
    "demo_loader = torch.utils.data.DataLoader(train_set, batch_size=10)\n",
    "batch = next(iter(demo_loader))\n",
    "images, labels = batch\n",
    "print(type(images), type(labels))\n",
    "print(images.shape, labels.shape)\n",
    "\n",
    "grid = torchvision.utils.make_grid(images, nrow=10)\n",
    "plt.figure(figsize=(15, 20))\n",
    "plt.imshow(np.transpose(grid, (1, 2, 0)))\n",
    "print(\"labels: \", end=\" \")\n",
    "for i, label in enumerate(labels):\n",
    "    print(output_label(label), end=\", \")\n"
   ]
  },
  {
   "cell_type": "markdown",
   "metadata": {
    "id": "1kLz9vTD_Wd_"
   },
   "source": [
    "#### 2. Define a Convolutional Neural Network, to train on the data above for classification task. Specifically, please define a network with the following architecture:\n",
    "\n",
    "`Convolution layer1 with kernel size 3x3 and output channel 8`\n",
    "\n",
    "`Convolution layer2 with kernel size 3x3 and output channel 16`\n",
    "\n",
    "`Average pooling layer with kernel size 2x2 and stride 2, to be applied after each convolution layer`\n",
    "\n",
    "`Fully-connected layer1 with output feature size 128`\n",
    "\n",
    "`Fully-connected layer2 with output feature size 64`\n",
    "\n",
    "`The final fully-connected layer3`\n",
    "\n",
    "`Use ReLU activation function after each convolution and fully-connected (except the last one, fc3) layers`\n",
    "\n",
    "Please define a cross-entropy loss function for classification and the SGD with momentum=0.9 and learning-rate=0.001 for the optimizer."
   ]
  },
  {
   "cell_type": "code",
   "execution_count": 98,
   "metadata": {
    "id": "1vZvKk7UNqLr"
   },
   "outputs": [],
   "source": [
    "#Creating a Convolution Neural Netwok\n",
    "class FCNN(nn.Module):\n",
    "    \n",
    "    def __init__(self):\n",
    "        super(FCNN, self).__init__()\n",
    "        \n",
    "        self.layer1 = nn.Sequential(\n",
    "            nn.Conv2d(in_channels=1, out_channels=8, kernel_size=3, padding=1),\n",
    "            nn.BatchNorm2d(8),\n",
    "            nn.ReLU(),\n",
    "            nn.MaxPool2d(kernel_size=2, stride=2)\n",
    "        )\n",
    "        \n",
    "        self.layer2 = nn.Sequential(\n",
    "            nn.Conv2d(in_channels=8, out_channels=16, kernel_size=3),\n",
    "            nn.BatchNorm2d(16),\n",
    "            nn.ReLU(),\n",
    "            nn.MaxPool2d(2)\n",
    "        )\n",
    "        \n",
    "        self.fc1 = nn.Linear(in_features=576, out_features=128)\n",
    "        self.drop = nn.Dropout2d(0.25)\n",
    "        self.fc2 = nn.Linear(in_features=128, out_features=64)\n",
    "        self.fc3 = nn.Linear(in_features=64, out_features=10)\n",
    "        \n",
    "    def forward(self, x):\n",
    "        out = self.layer1(x)\n",
    "        out = self.layer2(out)\n",
    "        out = out.view(out.size(0), -1)\n",
    "        out = self.fc1(out)\n",
    "        out = self.drop(out)\n",
    "        out = self.fc2(out)\n",
    "        out = self.fc3(out)\n",
    "        \n",
    "        return out"
   ]
  },
  {
   "cell_type": "code",
   "execution_count": 101,
   "metadata": {
    "colab": {
     "base_uri": "https://localhost:8080/"
    },
    "id": "HEptxgggN7Tu",
    "outputId": "d403a52f-f923-44d7-d660-fc68afbbfa8e"
   },
   "outputs": [
    {
     "name": "stdout",
     "output_type": "stream",
     "text": [
      "FCNN(\n",
      "  (layer1): Sequential(\n",
      "    (0): Conv2d(1, 8, kernel_size=(3, 3), stride=(1, 1), padding=(1, 1))\n",
      "    (1): BatchNorm2d(8, eps=1e-05, momentum=0.1, affine=True, track_running_stats=True)\n",
      "    (2): ReLU()\n",
      "    (3): MaxPool2d(kernel_size=2, stride=2, padding=0, dilation=1, ceil_mode=False)\n",
      "  )\n",
      "  (layer2): Sequential(\n",
      "    (0): Conv2d(8, 16, kernel_size=(3, 3), stride=(1, 1))\n",
      "    (1): BatchNorm2d(16, eps=1e-05, momentum=0.1, affine=True, track_running_stats=True)\n",
      "    (2): ReLU()\n",
      "    (3): MaxPool2d(kernel_size=2, stride=2, padding=0, dilation=1, ceil_mode=False)\n",
      "  )\n",
      "  (fc1): Linear(in_features=576, out_features=128, bias=True)\n",
      "  (drop): Dropout2d(p=0.25, inplace=False)\n",
      "  (fc2): Linear(in_features=128, out_features=64, bias=True)\n",
      "  (fc3): Linear(in_features=64, out_features=10, bias=True)\n",
      ")\n"
     ]
    }
   ],
   "source": [
    "model = FCNN()\n",
    "model.to(device)\n",
    "error = nn.CrossEntropyLoss()\n",
    "learning_rate = 1e-3\n",
    "optimizer = torch.optim.Adam(model.parameters(), lr=learning_rate)\n",
    "print(model)"
   ]
  },
  {
   "cell_type": "markdown",
   "metadata": {
    "id": "05gVHdxcD02x"
   },
   "source": [
    "#### 3. Train the network on the training data defined above, for 5 epochs.\n",
    "\n",
    "#### Please also print the running loss for the training process."
   ]
  },
  {
   "cell_type": "code",
   "execution_count": 106,
   "metadata": {
    "colab": {
     "base_uri": "https://localhost:8080/"
    },
    "id": "igbhfVLgOCUn",
    "outputId": "129a5666-4c66-44f7-93ad-fd1f2f3f4a1a"
   },
   "outputs": [
    {
     "name": "stdout",
     "output_type": "stream",
     "text": [
      "Iteration: 50, Loss: 0.23916272819042206, Accuracy: 89.88166809082031%\n",
      "Iteration: 100, Loss: 0.3034414052963257, Accuracy: 89.875%\n",
      "Iteration: 150, Loss: 0.40755629539489746, Accuracy: 89.51333618164062%\n",
      "Iteration: 200, Loss: 0.2710783779621124, Accuracy: 88.8616714477539%\n",
      "Iteration: 250, Loss: 0.33744195103645325, Accuracy: 89.94833374023438%\n",
      "Iteration: 300, Loss: 0.25281205773353577, Accuracy: 89.37667083740234%\n",
      "Iteration: 350, Loss: 0.37286537885665894, Accuracy: 90.00499725341797%\n",
      "Iteration: 400, Loss: 0.3131195306777954, Accuracy: 89.63833618164062%\n",
      "Iteration: 450, Loss: 0.46809521317481995, Accuracy: 88.82167053222656%\n",
      "Iteration: 500, Loss: 0.44980648159980774, Accuracy: 89.92833709716797%\n",
      "Iteration: 550, Loss: 0.27842259407043457, Accuracy: 90.02000427246094%\n",
      "Iteration: 600, Loss: 0.30370569229125977, Accuracy: 90.34000396728516%\n",
      "Iteration: 650, Loss: 0.22390438616275787, Accuracy: 90.22166442871094%\n",
      "Iteration: 700, Loss: 0.3200002908706665, Accuracy: 90.23999786376953%\n",
      "Iteration: 750, Loss: 0.3895849287509918, Accuracy: 89.92166900634766%\n",
      "Iteration: 800, Loss: 0.2427697628736496, Accuracy: 89.71500396728516%\n",
      "Iteration: 850, Loss: 0.2944224774837494, Accuracy: 90.1433334350586%\n",
      "Iteration: 900, Loss: 0.3188718855381012, Accuracy: 90.17166900634766%\n",
      "Iteration: 950, Loss: 0.31815680861473083, Accuracy: 90.35333251953125%\n",
      "Iteration: 1000, Loss: 0.2846065163612366, Accuracy: 90.34000396728516%\n",
      "Iteration: 1050, Loss: 0.4535404443740845, Accuracy: 89.65333557128906%\n",
      "Iteration: 1100, Loss: 0.4530371129512787, Accuracy: 90.17166900634766%\n",
      "Iteration: 1150, Loss: 0.23365981876850128, Accuracy: 90.1066665649414%\n",
      "Iteration: 1200, Loss: 0.3119856119155884, Accuracy: 90.59333801269531%\n",
      "Iteration: 1250, Loss: 0.19901901483535767, Accuracy: 90.72833251953125%\n",
      "Iteration: 1300, Loss: 0.29998552799224854, Accuracy: 90.66166687011719%\n",
      "Iteration: 1350, Loss: 0.3717708885669708, Accuracy: 89.9433364868164%\n",
      "Iteration: 1400, Loss: 0.21192435920238495, Accuracy: 89.99333190917969%\n",
      "Iteration: 1450, Loss: 0.2873642146587372, Accuracy: 90.38166809082031%\n",
      "Iteration: 1500, Loss: 0.2659514844417572, Accuracy: 90.41333770751953%\n",
      "Iteration: 1550, Loss: 0.3307476341724396, Accuracy: 90.49500274658203%\n",
      "Iteration: 1600, Loss: 0.28165146708488464, Accuracy: 90.72000122070312%\n",
      "Iteration: 1650, Loss: 0.39921891689300537, Accuracy: 90.12833404541016%\n",
      "Iteration: 1700, Loss: 0.44372329115867615, Accuracy: 90.52333068847656%\n",
      "Iteration: 1750, Loss: 0.24316319823265076, Accuracy: 90.09666442871094%\n",
      "Iteration: 1800, Loss: 0.2859026789665222, Accuracy: 90.7683334350586%\n",
      "Iteration: 1850, Loss: 0.2018878310918808, Accuracy: 90.47166442871094%\n",
      "Iteration: 1900, Loss: 0.2866950035095215, Accuracy: 90.75499725341797%\n",
      "Iteration: 1950, Loss: 0.35538250207901, Accuracy: 90.24333190917969%\n",
      "Iteration: 2000, Loss: 0.20344051718711853, Accuracy: 90.49666595458984%\n",
      "Iteration: 2050, Loss: 0.26974108815193176, Accuracy: 90.70000457763672%\n",
      "Iteration: 2100, Loss: 0.2861110270023346, Accuracy: 90.72166442871094%\n",
      "Iteration: 2150, Loss: 0.3186357021331787, Accuracy: 90.81999969482422%\n",
      "Iteration: 2200, Loss: 0.2826117277145386, Accuracy: 90.95333099365234%\n",
      "Iteration: 2250, Loss: 0.38308945298194885, Accuracy: 90.2933349609375%\n",
      "Iteration: 2300, Loss: 0.43861010670661926, Accuracy: 90.90166473388672%\n",
      "Iteration: 2350, Loss: 0.1915871500968933, Accuracy: 90.59166717529297%\n",
      "Iteration: 2400, Loss: 0.26431596279144287, Accuracy: 91.10833740234375%\n",
      "Iteration: 2450, Loss: 0.21015489101409912, Accuracy: 90.99833679199219%\n",
      "Iteration: 2500, Loss: 0.2579149305820465, Accuracy: 91.086669921875%\n",
      "Iteration: 2550, Loss: 0.3868320882320404, Accuracy: 90.55667114257812%\n",
      "Iteration: 2600, Loss: 0.2185269594192505, Accuracy: 90.49500274658203%\n",
      "Iteration: 2650, Loss: 0.24811463057994843, Accuracy: 91.086669921875%\n",
      "Iteration: 2700, Loss: 0.2491815686225891, Accuracy: 91.11833190917969%\n",
      "Iteration: 2750, Loss: 0.31099891662597656, Accuracy: 91.05999755859375%\n",
      "Iteration: 2800, Loss: 0.266885370016098, Accuracy: 91.2249984741211%\n",
      "Iteration: 2850, Loss: 0.30827826261520386, Accuracy: 90.35166931152344%\n",
      "Iteration: 2900, Loss: 0.41315901279449463, Accuracy: 90.91333770751953%\n",
      "Iteration: 2950, Loss: 0.2032996118068695, Accuracy: 90.97166442871094%\n",
      "Iteration: 3000, Loss: 0.27941784262657166, Accuracy: 91.44166564941406%\n"
     ]
    }
   ],
   "source": [
    "#Train the Neural network with the above data\n",
    "num_epochs = 5\n",
    "count = 0\n",
    "# Lists for visualization of loss and accuracy \n",
    "loss_list = []\n",
    "iteration_list = []\n",
    "accuracy_list = []\n",
    "\n",
    "# Lists for knowing classwise accuracy\n",
    "predictions_list = []\n",
    "labels_list = []\n",
    "\n",
    "for epoch in range(num_epochs):\n",
    "    for images, labels in train_loader:\n",
    "        # Transfering images and labels to GPU if available\n",
    "        images, labels = images.to(device), labels.to(device)\n",
    "    \n",
    "        train = Variable(images.view(100, 1, 28, 28))\n",
    "        labels = Variable(labels)\n",
    "        \n",
    "        # Forward pass \n",
    "        outputs = model(train)\n",
    "        loss = error(outputs, labels.long())\n",
    "    \n",
    "\n",
    "        # Initializing a gradient as 0 so there is no mixing of gradient among the batches\n",
    "        optimizer.zero_grad()\n",
    "        \n",
    "        #Propagating the error backward\n",
    "        loss.backward()\n",
    "        \n",
    "        # Optimizing the parameters\n",
    "        optimizer.step()\n",
    "        count += 1\n",
    "    \n",
    "        # Testing the model\n",
    "        if not (count % 50):    # It's same as \"if count % 50 == 0\"\n",
    "            total = 0\n",
    "            correct = 0\n",
    "        \n",
    "            for images, labels in test_loader:\n",
    "                images, labels = images.to(device), labels.to(device)\n",
    "                labels_list.append(labels)\n",
    "            \n",
    "                test = Variable(images.view(100, 1, 28, 28))\n",
    "            \n",
    "                outputs = model(test)\n",
    "            \n",
    "                predictions = torch.max(outputs, 1)[1].to(device)\n",
    "                predictions_list.append(predictions)\n",
    "                correct += (predictions == labels).sum()\n",
    "            \n",
    "                total += len(labels)\n",
    "            \n",
    "            accuracy = correct * 100 / total\n",
    "            loss_list.append(loss.data)\n",
    "            iteration_list.append(count)\n",
    "            accuracy_list.append(accuracy)\n",
    "        \n",
    "        if not (count % 50):\n",
    "            print(\"Iteration: {}, Loss: {}, Accuracy: {}%\".format(count, loss.data, accuracy))"
   ]
  },
  {
   "cell_type": "markdown",
   "metadata": {
    "id": "FVYsk809D-0R"
   },
   "source": [
    "#### 4. Please plot the training loss curve, using either Matplotlib or Tensorboard."
   ]
  },
  {
   "cell_type": "code",
   "execution_count": 109,
   "metadata": {
    "colab": {
     "base_uri": "https://localhost:8080/",
     "height": 295
    },
    "id": "4ywxvLHUORwh",
    "outputId": "2ce8ed81-c60b-48c5-899c-1564e807a2ff"
   },
   "outputs": [
    {
     "data": {
      "image/png": "[encoded data removed]",
      "text/plain": [
       "<Figure size 432x288 with 1 Axes>"
      ]
     },
     "metadata": {
      "needs_background": "light"
     },
     "output_type": "display_data"
    }
   ],
   "source": [
    "#Plot the accuracy and loss curve\n",
    "_loss_list = [i.cpu() for i in loss_list]\n",
    "plt.plot(np.array(iteration_list), np.array(_loss_list))\n",
    "plt.xlabel(\"No. of Iteration\")\n",
    "plt.ylabel(\"Loss\")\n",
    "plt.title(\"Iterations vs Loss\")\n",
    "plt.show()"
   ]
  },
  {
   "cell_type": "code",
   "execution_count": 111,
   "metadata": {
    "colab": {
     "base_uri": "https://localhost:8080/",
     "height": 295
    },
    "id": "-3d0caA_OeHc",
    "outputId": "4e89a762-8f82-41d2-dd9f-016e915b15b2"
   },
   "outputs": [
    {
     "data": {
      "image/png": "[encoded data removed]",
      "text/plain": [
       "<Figure size 432x288 with 1 Axes>"
      ]
     },
     "metadata": {
      "needs_background": "light"
     },
     "output_type": "display_data"
    }
   ],
   "source": [
    "_accuracy_list = [i.cpu() for i in accuracy_list]\n",
    "plt.plot(iteration_list, _accuracy_list)\n",
    "plt.xlabel(\"No. of Iterations run\")\n",
    "plt.ylabel(\"Accuracy\")\n",
    "plt.title(\"No. of Iterations vs Accuracy\")\n",
    "plt.show()"
   ]
  },
  {
   "cell_type": "markdown",
   "metadata": {
    "id": "Zf6aomopEgB3"
   },
   "source": [
    "#### 5. Please save the trained model above.\n",
    "\n",
    "#### Then load this trained model and test its performance on the test set. Please print the average accuracy over the whole test set.\n",
    "    \n",
    "#### Please also visualise the confusion matrix of the accuracy over each of the categories/classes."
   ]
  },
  {
   "cell_type": "code",
   "execution_count": 112,
   "metadata": {
    "colab": {
     "base_uri": "https://localhost:8080/"
    },
    "id": "teuBj46jOjfu",
    "outputId": "143330b0-e1cd-4210-afcf-049c304bf1a9"
   },
   "outputs": [
    {
     "name": "stderr",
     "output_type": "stream",
     "text": [
      "/usr/local/lib/python3.7/dist-packages/torch/nn/functional.py:1331: UserWarning: dropout2d: Received a 2-D input to dropout2d, which is deprecated and will result in an error in a future release. To retain the behavior and silence this warning, please use dropout instead. Note that dropout2d exists to provide channel-wise dropout on inputs with 2 spatial dimensions, a channel dimension, and an optional batch dimension (i.e. 3D or 4D inputs).\n",
      "  warnings.warn(warn_msg)\n"
     ]
    },
    {
     "name": "stdout",
     "output_type": "stream",
     "text": [
      "Accuracy of T-shirt/Top: 84.22%\n",
      "Accuracy of Trouser: 99.18%\n",
      "Accuracy of Pullover: 88.93%\n",
      "Accuracy of Dress: 91.93%\n",
      "Accuracy of Coat: 87.33%\n",
      "Accuracy of Sandal: 97.33%\n",
      "Accuracy of Shirt: 71.32%\n",
      "Accuracy of Sneaker: 96.48%\n",
      "Accuracy of Bag: 98.85%\n",
      "Accuracy of Ankle Boot: 97.92%\n"
     ]
    }
   ],
   "source": [
    "#Load the trained model and check its performance\n",
    "class_correct = [0. for _ in range(10)]\n",
    "total_correct = [0. for _ in range(10)]\n",
    "\n",
    "with torch.no_grad():\n",
    "    for images, labels in test_loader:\n",
    "        images, labels = images.to(device), labels.to(device)\n",
    "        test = Variable(images)\n",
    "        outputs = model(test)\n",
    "        predicted = torch.max(outputs, 1)[1]\n",
    "        c = (predicted == labels).squeeze()\n",
    "        \n",
    "        for i in range(100):\n",
    "            label = labels[i]\n",
    "            class_correct[label] += c[i].item()\n",
    "            total_correct[label] += 1\n",
    "        \n",
    "for i in range(10):\n",
    "    print(\"Accuracy of {}: {:.2f}%\".format(output_label(i), class_correct[i] * 100 / total_correct[i]))"
   ]
  },
  {
   "cell_type": "markdown",
   "metadata": {
    "id": "_U5XjrVBEuiQ"
   },
   "source": [
    "## Confusion matrix "
   ]
  },
  {
   "cell_type": "code",
   "execution_count": 113,
   "metadata": {
    "id": "o3by3ZYkOn9c"
   },
   "outputs": [],
   "source": [
    "from itertools import chain \n",
    "\n",
    "predictions_l = [predictions_list[i].tolist() for i in range(len(predictions_list))]\n",
    "labels_l = [labels_list[i].tolist() for i in range(len(labels_list))]\n",
    "predictions_l = list(chain.from_iterable(predictions_l))\n",
    "labels_l = list(chain.from_iterable(labels_l))"
   ]
  },
  {
   "cell_type": "code",
   "execution_count": 114,
   "metadata": {
    "colab": {
     "base_uri": "https://localhost:8080/"
    },
    "id": "krmbuvR9OqMl",
    "outputId": "24742413-7ee5-4e61-dbce-2be229aef8a6"
   },
   "outputs": [
    {
     "name": "stdout",
     "output_type": "stream",
     "text": [
      "Classification report for CNN :\n",
      "              precision    recall  f1-score   support\n",
      "\n",
      "           0       0.84      0.87      0.85    360000\n",
      "           1       0.98      0.98      0.98    360000\n",
      "           2       0.84      0.86      0.85    360000\n",
      "           3       0.89      0.91      0.90    360000\n",
      "           4       0.83      0.83      0.83    360000\n",
      "           5       0.98      0.98      0.98    360000\n",
      "           6       0.78      0.70      0.74    360000\n",
      "           7       0.95      0.96      0.96    360000\n",
      "           8       0.97      0.98      0.98    360000\n",
      "           9       0.97      0.96      0.96    360000\n",
      "\n",
      "    accuracy                           0.90   3600000\n",
      "   macro avg       0.90      0.90      0.90   3600000\n",
      "weighted avg       0.90      0.90      0.90   3600000\n",
      "\n",
      "\n"
     ]
    }
   ],
   "source": [
    "import sklearn.metrics as metrics\n",
    "\n",
    "confusion_matrix(labels_l, predictions_l)\n",
    "print(\"Classification report for CNN :\\n%s\\n\"\n",
    "      % (metrics.classification_report(labels_l, predictions_l)))"
   ]
  },
  {
   "cell_type": "code",
   "execution_count": null,
   "metadata": {
    "id": "49M9TEWyHO6q"
   },
   "outputs": [],
   "source": []
  }
 ],
 "metadata": {
  "accelerator": "GPU",
  "colab": {
   "provenance": []
  },
  "gpuClass": "standard",
  "kernelspec": {
   "display_name": "Python 3 (ipykernel)",
   "language": "python",
   "name": "python3"
  },
  "language_info": {
   "codemirror_mode": {
    "name": "ipython",
    "version": 3
   },
   "file_extension": ".py",
   "mimetype": "text/x-python",
   "name": "python",
   "nbconvert_exporter": "python",
   "pygments_lexer": "ipython3",
   "version": "3.9.12"
  }
 },
 "nbformat": 4,
 "nbformat_minor": 1
}
